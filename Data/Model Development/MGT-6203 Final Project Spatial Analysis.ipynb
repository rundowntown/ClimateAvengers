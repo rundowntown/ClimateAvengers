{
 "cells": [
  {
   "cell_type": "markdown",
   "source": [
    "<img src=\"https://brand.gatech.edu/sites/default/files/inline-images/extended-RGB.png\" \n",
    "    width=\"700\" \n",
    "    height=\"200\" />\n",
    "\n",
    "# MGT-6203 Group Project \"Climate Avengers\"\n",
    "### County-Level Spatial Analysis for Effective Crop Production Planning\n",
    "\n",
    "<b>Author:</b> Steven Wasserman\n",
    "<b>Date Created:</b> 04/12/2024\n",
    "\n",
    "<b>Purpose of script:</b> To determine the current production totals of crops in each county of California, then recommend ideal counties for producing crops through use of cardinal temperatures/precipitation conditions and spatial analysis of 10-year and 30-year normals. \n",
    "\n",
    "<b>Copyright (c) Steven Wasserman, 2024\n",
    "Email: [swasserman9@gatech.edu](mailto:swasserman9@gatech.edu)</b>"
   ],
   "metadata": {
    "collapsed": false
   },
   "id": "6b6de7772529076b"
  },
  {
   "cell_type": "markdown",
   "source": [
    "### Environment Set-up\n",
    "\n",
    "This section calls all required packages and libraries, and reads in datafiles from GitHub. <b>NOTE:</b> A pre-established connection to the GitHub repository is required to properly call the data."
   ],
   "metadata": {
    "collapsed": false
   },
   "id": "37233de163218045"
  },
  {
   "cell_type": "code",
   "execution_count": 461,
   "outputs": [],
   "source": [
    "# Load packages\n",
    "import numpy as np\n",
    "import os\n",
    "import pandas as pd\n",
    "import scipy.constants\n",
    "from scipy.constants import convert_temperature\n",
    "from scipy import spatial"
   ],
   "metadata": {
    "collapsed": false,
    "ExecuteTime": {
     "end_time": "2024-04-22T00:41:54.951022Z",
     "start_time": "2024-04-22T00:41:54.941609Z"
    }
   },
   "id": "initial_id"
  },
  {
   "cell_type": "code",
   "execution_count": 462,
   "outputs": [],
   "source": [
    "# Import data\n",
    "\n",
    "## File paths\n",
    "file_path = os.path.normpath(os.getcwd() + os.sep + os.pardir)\n",
    "Imputed_Combined_Daily_Normals = '/Main_Data/Imputed_Combined_Daily_Normals.csv'\n",
    "CaliforniaCropsCountyReady = '/Crop_Data/CaliforniaCropsCountyReady.csv'\n",
    "CaliforniaCardinalData = '/Crop_Data/CaliforniaCardinalData.csv'\n",
    "\n",
    "## File imports\n",
    "# `Weather_df` describes the combined daily weather recordings as well as 30-year weather normals for each weather station. There is also data on observed weather patterns for each day (e.g., snow, hail, tornadoes), geographic data, and more. The data has been imputed to reduce or remove NA values as appropriate.  \n",
    "Weather_df = pd.read_csv(file_path + Imputed_Combined_Daily_Normals, dtype = {\"STATION\": \"string\", \"DailyStation\": \"string\"})\n",
    "\n",
    "# `CACrops_Counts` describes the acreage in each CA county used to grow each crop of interest to this analysis (i.e., the top 10 highest value crops for CA)\n",
    "# NOTE : The columns 'ALAND' and 'AWATER' are in sq. meters, and 'Count' describes parcels of land equivalent to 0.22 acres of land\n",
    "CACrops_Counts = pd.read_csv(file_path + CaliforniaCropsCountyReady).rename(columns = {'CropTypes' : 'Crop'})\n",
    "\n",
    "# `CACrops_Descr` describes the topographical information each crop of interest to this analysis (i.e., the top 10 highest value crops for CA)\n",
    "CACrops_Descr = pd.read_csv(file_path + CaliforniaCardinalData).rename(columns = {'CropTypes' : 'Crop'})"
   ],
   "metadata": {
    "collapsed": false,
    "ExecuteTime": {
     "end_time": "2024-04-22T00:42:03.124797Z",
     "start_time": "2024-04-22T00:42:00.891318Z"
    }
   },
   "id": "9a2aed7550e8b3ca"
  },
  {
   "cell_type": "markdown",
   "source": [
    "### Current Crop Production Patterns in CA, 2010-2020\n",
    "\n",
    "This section performs preparation of the data to describe what the current distribution of crop production looks like across CA. Three dataframes are created, including:\n",
    "- `CACrops_Descr_tr` - Describes the top crops produced in each county for each year between 2010 and 2020\n",
    "- `CACrops_Descr_tr_agg` - Describes the top crops produced in each county between 2010 and 2020\n",
    "- `CACrops_Descr_tr_agg_total` - Describes the top crops produced across CA between 2010 and 2020\n",
    "\n",
    "The three datasets are merged to create `CACrops_df`. Additionally, `CAFarmland` is created to describe the top-producing CA counties, in terms of farmland. It takes the average acreage of farmland recorded for each county between 2010 and 2020, and produces a ranking accordingly. "
   ],
   "metadata": {
    "collapsed": false
   },
   "id": "45bcb941e8e63cd9"
  },
  {
   "cell_type": "code",
   "execution_count": 463,
   "outputs": [],
   "source": [
    "# This code transforms the metrics of sq. meters for columns from the TIGER dataset and from acres for columns from the crop production dataset\n",
    "CACrops_Descr_tr = CACrops_Counts.copy()\n",
    "# Source: https://stackoverflow.com/questions/31246602/shape-area-and-aland-awater-in-tiger-census-data\n",
    "CACrops_Descr_tr['Total_Land_Area_sq_mi'] = CACrops_Descr_tr['ALAND'].apply(lambda x: x/(scipy.constants.mile**2))\n",
    "CACrops_Descr_tr['Total_Water_Area_sq_mi'] = CACrops_Descr_tr['AWATER'].apply(lambda x: x/(scipy.constants.mile**2))\n",
    "# NOTE : The 'Count' column represents parcels of land that are 0.22 acres in dimension\n",
    "CACrops_Descr_tr['Total_Crop_Area_sq_mi'] = CACrops_Descr_tr['Count'].apply(lambda x: (x*0.22)/640)\n",
    "CACrops_Descr_tr.drop(columns = ['ALAND', 'AWATER', 'Count'], inplace = True)\n",
    "# Creates the ranking for production of each crop in each county for each year\n",
    "CACrops_Descr_tr['Crop_Prevalence_by_County_per_Year'] = (CACrops_Descr_tr.groupby(by = ['County', 'Year'])['Total_Crop_Area_sq_mi'].rank(method = \"dense\", ascending = False)).astype(int)\n",
    "\n",
    "# Creates the ranking for production of each crop in each county\n",
    "CACrops_Descr_tr_agg = CACrops_Descr_tr[['County', 'Crop', 'Total_Crop_Area_sq_mi']].copy()\n",
    "CACrops_Descr_tr_agg = CACrops_Descr_tr_agg.set_index(['County', 'Crop'])\n",
    "CACrops_Descr_tr_agg = CACrops_Descr_tr_agg.groupby(by = ['County', 'Crop']).apply(np.sum, axis = 0)\n",
    "CACrops_Descr_tr_agg.reset_index(inplace = True)\n",
    "CACrops_Descr_tr_agg['Crop_Prevalence_by_County_rank'] = (CACrops_Descr_tr_agg.groupby(by = ['County'])['Total_Crop_Area_sq_mi'].rank(method = \"dense\", ascending = False)).astype(int)\n",
    "CACrops_Descr_tr_agg.sort_values(by = ['County', 'Crop_Prevalence_by_County_rank'], inplace = True)\n",
    "\n",
    "# Creates the ranking for production of each crop of interest in the CA study\n",
    "CACrops_Descr_tr_agg_total = CACrops_Descr_tr[['Crop', 'Total_Crop_Area_sq_mi']].copy()\n",
    "CACrops_Descr_tr_agg_total = CACrops_Descr_tr_agg_total.set_index('Crop')\n",
    "CACrops_Descr_tr_agg_total = CACrops_Descr_tr_agg_total.groupby('Crop').apply(np.sum, axis = 0)\n",
    "CACrops_Descr_tr_agg_total.reset_index(inplace = True)\n",
    "CACrops_Descr_tr_agg_total['Crop_Prevalence_CA_rank'] = (CACrops_Descr_tr_agg_total['Total_Crop_Area_sq_mi'].rank(method = \"dense\", ascending = False)).astype(int)\n",
    "CACrops_Descr_tr_agg_total.sort_values(by = ['Crop_Prevalence_CA_rank'], inplace = True)\n",
    "\n",
    "# Aggregates all the data together\n",
    "CACrops_df = CACrops_Descr_tr.merge(CACrops_Descr_tr_agg[['County', 'Crop', 'Crop_Prevalence_by_County_rank']], how = 'left', on = ['County', 'Crop']).merge(CACrops_Descr_tr_agg_total[['Crop', 'Crop_Prevalence_CA_rank']], how = 'left', on = 'Crop').sort_values(by = ['County','Year', 'Crop_Prevalence_by_County_per_Year'])\n",
    "\n",
    "# Describes the farmland use in each county in CA\n",
    "CAFarmland = CACrops_Descr_tr[['County', 'Year', 'Total_Crop_Area_sq_mi']].copy()\n",
    "CAFarmland = CAFarmland.set_index(['County', 'Year'])\n",
    "CAFarmland = CAFarmland.groupby(by = ['County', 'Year']).apply(np.sum, axis = 0).rename(columns = {'Total_Crop_Area_sq_mi' : 'Total_Annual_Farmland_sq_mi'}, inplace = False)\n",
    "CAFarmland.reset_index(inplace = True)\n",
    "CAFarmland.drop(columns = ['Year'], inplace = True)\n",
    "CAFarmland = CAFarmland.set_index('County')\n",
    "CAFarmland = CAFarmland.groupby('County').apply(np.mean, axis = 0).rename(columns = {'Total_Annual_Farmland_sq_mi' : 'Avg_Farmland_sq_mi'}, inplace = False)\n",
    "CAFarmland.reset_index(inplace = True)\n",
    "CAFarmland['Total_Farmland_rank'] = (CAFarmland['Avg_Farmland_sq_mi'].rank(method = \"dense\", ascending = False)).astype(int)\n",
    "CAFarmland.sort_values(by = ['Total_Farmland_rank'], inplace = True)\n",
    "CAFarmland = CAFarmland.merge(CACrops_Descr_tr[['County', 'Total_Land_Area_sq_mi']].drop_duplicates(), on = 'County')\n",
    "CAFarmland['Farmland_to_Land_ratio'] = CAFarmland['Avg_Farmland_sq_mi'].div(CAFarmland['Total_Land_Area_sq_mi'])\n",
    "CAFarmland = CAFarmland.sort_values(by = 'Total_Farmland_rank')"
   ],
   "metadata": {
    "collapsed": false,
    "ExecuteTime": {
     "end_time": "2024-04-22T00:42:03.308961Z",
     "start_time": "2024-04-22T00:42:03.131335Z"
    }
   },
   "id": "350452eb62c5907"
  },
  {
   "cell_type": "markdown",
   "source": [
    "### Spatial Analysis: What <i>Should</i> Crop Production in CA Be?\n",
    "\n",
    "This section performs data curation and manipulation to prepare the observed weather data for each county. The data is collated to find temperature and precipitation averages for each crop, then spatial analysis is used to compare each crop's attributes to the observed weather patterns in each CA county. A ranking is produced than suggests, according to observed weather patterns, which crop each county should be producing. This is then compared to actual current production to finalize a recommendation that suggests:\n",
    "- Which crops each county in California should be producing based on observed weather conditions, including temperature and rainfall, from 2010-2020\n",
    "- Which counties are currently producing according to model expectations, and which are not"
   ],
   "metadata": {
    "collapsed": false
   },
   "id": "8684b6de08ec5b87"
  },
  {
   "cell_type": "code",
   "execution_count": 465,
   "outputs": [],
   "source": [
    "## This code prepares the cardinal weather data (primarily temperature and precipitation) into understandable metrics that can be compared to other curated datasets\n",
    "\n",
    "# Constants for conversion\n",
    "mm = scipy.constants.milli; inch = scipy.constants.inch\n",
    "\n",
    "# Convert temperature from Celcius to Fahrenheit\n",
    "CA_Crops = CACrops_Descr[[\"Crop\", \"OptimalTempMin_C\", \"OptimalTempMax_C\",\n",
    "                            \"AbsTempMin_C\", \"AbsTempMax_C\", \"OptimalRainfallMin_mm\",\n",
    "                            \"OptimalRainfallMax_mm\", \"AbsRainfallMin_mm\", \"AbsRainfallMax_mm\"]].copy()\n",
    "CA_Crops['AbsMinTemp_F'] = CA_Crops['AbsTempMin_C'].apply(lambda x: convert_temperature(x, 'C', 'F'))\n",
    "CA_Crops['AbsMaxTemp_F'] = CA_Crops['AbsTempMax_C'].apply(lambda x: convert_temperature(x, 'C', 'F'))\n",
    "CA_Crops['OptimalMinTemp_F'] = CA_Crops['OptimalTempMin_C'].apply(lambda x: convert_temperature(x, 'C', 'F'))\n",
    "CA_Crops['OptimalMinTemp_F'] = CA_Crops['OptimalTempMax_C'].apply(lambda x: convert_temperature(x, 'C', 'F'))\n",
    "CA_Crops['AvgTemp_F'] = ((CA_Crops['OptimalTempMin_C'] + CA_Crops['OptimalTempMax_C'])/2).apply(lambda x: convert_temperature(x, 'C', 'F'))\n",
    "\n",
    "#Convert rainfall from millimeters to inches\n",
    "CA_Crops['AbsMinRainfall_in'] = CA_Crops['AbsRainfallMin_mm'].apply(lambda x: (x*mm)/inch)\n",
    "CA_Crops['AbsMaxRainfall_in'] = CA_Crops['AbsRainfallMax_mm'].apply(lambda x: (x*mm)/inch)\n",
    "CA_Crops['OptimalMinRainfall_in'] = CA_Crops['OptimalRainfallMin_mm'].apply(lambda x: (x*mm)/inch)\n",
    "CA_Crops['OptimalMaxRainfall_in'] = CA_Crops['OptimalRainfallMax_mm'].apply(lambda x: (x*mm)/inch)\n",
    "CA_Crops['AvgRainfall_in'] = ((CA_Crops['OptimalRainfallMin_mm'] + CA_Crops['OptimalRainfallMax_mm'])/2).apply(lambda x: (x*mm)/inch)\n",
    "\n",
    "# Insert growing months, convert from Gregorian calendar names to numbers\n",
    "CACrops_growing_months = CACrops_Descr[['Crop', 'GrowingMonth_Start', 'GrowingMonth_End']].copy()\n",
    "choices = np.array(range(1, 13), dtype = int)\n",
    "start_month_conditions = [\n",
    "    (CACrops_growing_months['GrowingMonth_Start'] == 'January'),\n",
    "    (CACrops_growing_months['GrowingMonth_Start'] == 'February'),\n",
    "    (CACrops_growing_months['GrowingMonth_Start'] == 'March'),\n",
    "    (CACrops_growing_months['GrowingMonth_Start'] == 'April'),\n",
    "    (CACrops_growing_months['GrowingMonth_Start'] == 'May'),\n",
    "    (CACrops_growing_months['GrowingMonth_Start'] == 'June'),\n",
    "    (CACrops_growing_months['GrowingMonth_Start'] == 'July'),\n",
    "    (CACrops_growing_months['GrowingMonth_Start'] == 'August'),\n",
    "    (CACrops_growing_months['GrowingMonth_Start'] == 'September'),\n",
    "    (CACrops_growing_months['GrowingMonth_Start'] == 'October'),\n",
    "    (CACrops_growing_months['GrowingMonth_Start'] == 'November'),\n",
    "    (CACrops_growing_months['GrowingMonth_Start'] == 'December')\n",
    "]\n",
    "end_month_conditions = [\n",
    "    (CACrops_growing_months['GrowingMonth_End'] == 'January'),\n",
    "    (CACrops_growing_months['GrowingMonth_End'] == 'February'),\n",
    "    (CACrops_growing_months['GrowingMonth_End'] == 'March'),\n",
    "    (CACrops_growing_months['GrowingMonth_End'] == 'April'),\n",
    "    (CACrops_growing_months['GrowingMonth_End'] == 'May'),\n",
    "    (CACrops_growing_months['GrowingMonth_End'] == 'June'),\n",
    "    (CACrops_growing_months['GrowingMonth_End'] == 'July'),\n",
    "    (CACrops_growing_months['GrowingMonth_End'] == 'August'),\n",
    "    (CACrops_growing_months['GrowingMonth_End'] == 'September'),\n",
    "    (CACrops_growing_months['GrowingMonth_End'] == 'October'),\n",
    "    (CACrops_growing_months['GrowingMonth_End'] == 'November'),\n",
    "    (CACrops_growing_months['GrowingMonth_End'] == 'December')\n",
    "]\n",
    "CACrops_growing_months['GrowingMonth_Start_no'] = np.select(start_month_conditions, choices, default = np.nan)\n",
    "CACrops_growing_months['GrowingMonth_End_no'] = np.select(end_month_conditions, choices, default = np.nan)\n",
    "\n",
    "# Save output data to new '_converted' DataFrame, merge dataframes together\n",
    "CA_Crops_ct = CA_Crops[['Crop', 'AbsMinTemp_F', 'AvgTemp_F', 'AbsMaxTemp_F',\n",
    "                        'AbsMinRainfall_in', 'AvgRainfall_in', 'AbsMaxRainfall_in']] \\\n",
    "               .merge(CACrops_growing_months, how = 'left', on = 'Crop')\n",
    "                # .set_index('Crop')\n",
    "# CA_Crops_ct"
   ],
   "metadata": {
    "collapsed": false,
    "ExecuteTime": {
     "end_time": "2024-04-22T00:42:24.436213Z",
     "start_time": "2024-04-22T00:42:24.430817Z"
    }
   },
   "id": "1830af3fcdf4151a"
  },
  {
   "cell_type": "code",
   "execution_count": 466,
   "outputs": [],
   "source": [
    "# This code computes the monthly averages for each county's avg/min/max observed temperatures\n",
    "CA_Counties_temps = Weather_df[['Date', 'DailyCounty', 'MinTemp', 'AvgTemp', 'MaxTemp']].copy().rename(columns = {'DailyCounty' : 'County'}, inplace = False)\n",
    "CA_Counties_temps['Month'] = pd.DatetimeIndex(CA_Counties_temps['Date']).month\n",
    "CA_Counties_temps = CA_Counties_temps.set_index(['Month', 'County'])\n",
    "CA_Counties_temps.drop(['Date'], axis = 1, inplace = True)\n",
    "CA_Counties_temps_agg = CA_Counties_temps.groupby(by = ['Month', 'County']).apply(np.mean, axis = 0)\n",
    "CA_Counties_temps_agg.reset_index(inplace = True)\n",
    "\n",
    "# This code computes the monthly totals for each county's observed rainfall\n",
    "CA_Counties_precip = Weather_df[['Date', 'DailyCounty', 'Precipitation']].copy().rename(columns = {'DailyCounty' : 'County'}, inplace = False)\n",
    "# NOTE : The documentation in '~/Team-95/Data/Daily_Weather_Data/Daily_Source_Documentation.txt' states the following:\n",
    "#   \"Many stations do not report “0” on days with no precipitation, therefore “99.99” will often appear on these days.\"\n",
    "# We will infill '0' for these instances\n",
    "CA_Counties_precip[CA_Counties_precip['Precipitation'] == 99.99] = 0\n",
    "CA_Counties_precip['Month'] = pd.DatetimeIndex(CA_Counties_precip['Date']).month\n",
    "CA_Counties_precip = CA_Counties_precip.set_index(['Month', 'County'])\n",
    "CA_Counties_precip.drop(['Date'], axis = 1, inplace = True)\n",
    "CA_Counties_precip_agg = CA_Counties_precip.groupby(by = ['Month', 'County']).apply((np.sum), axis = 0)\n",
    "CA_Counties_precip_agg.reset_index(inplace = True)\n",
    "# We will compare this with the 30-year normals on month-to-date precipitation...\n",
    "# For this analysis, we take the average of precipitation observations for all stations in each county\n",
    "CA_Counties_precip_mtd = Weather_df[['MonthDay', 'NormalCounty', 'normalMtdPrcp']].copy().rename(columns = {'NormalCounty' : 'County', 'normalMtdPrcp' : 'Precipitation_month_to_date'}, inplace = False).drop_duplicates()\n",
    "CA_Counties_precip_mtd = CA_Counties_precip_mtd.set_index(['MonthDay', 'County'])\n",
    "CA_Counties_precip_mtd = CA_Counties_precip_mtd.groupby(by = ['MonthDay', 'County']).apply((np.mean), axis = 0)\n",
    "CA_Counties_precip_mtd.reset_index(inplace = True)\n",
    "# ... then we find the monthly totals...\n",
    "CA_Counties_precip_mtd['Month'] = (CA_Counties_precip_mtd['MonthDay'].str.split('-', expand = True)[0]).astype(int)\n",
    "CA_Counties_precip_mtd.drop(['MonthDay'], axis = 1, inplace = True)\n",
    "CA_Counties_precip_mtd = CA_Counties_precip_mtd.set_index(['Month', 'County'])\n",
    "CA_Counties_precip_mtd_agg = CA_Counties_precip_mtd.groupby(by = ['Month', 'County']).apply((np.sum), axis = 0)\n",
    "CA_Counties_precip_mtd_agg.reset_index(inplace = True)\n",
    "# 'CA_Rainfall' describes both 10-year and 30-year normals for precipitation in CA counties\n",
    "CA_Rainfall = CA_Counties_precip_agg.merge(CA_Counties_precip_mtd_agg, how = 'left', on = ['County', 'Month']).rename(columns = {'Precipitation' : 'Avg_Precipitation_2010_to_2020', 'Precipitation_month_to_date' : 'Avg_Precipitation_1991_to_2020'})\n",
    "# 'CA_Counties_Weather' describes monthly statistics on CA county observed weather, including average daily min/max/avg. temperature and monthly precipitation totals\n",
    "CA_Counties_Weather = CA_Counties_temps_agg.merge(CA_Rainfall, how = 'left', on = ['County', 'Month']).sort_values(by = ['County', 'Month'], inplace = False)\n",
    "# CA_Counties_Weather"
   ],
   "metadata": {
    "collapsed": false,
    "ExecuteTime": {
     "end_time": "2024-04-22T00:42:32.814288Z",
     "start_time": "2024-04-22T00:42:26.306928Z"
    }
   },
   "id": "2d9d298583846e29"
  },
  {
   "cell_type": "code",
   "execution_count": 473,
   "outputs": [
    {
     "data": {
      "text/plain": "                     Crop Current_County_ranked  \\\n0                    Rice                Colusa   \n1                    Rice                Sutter   \n2                    Rice                 Butte   \n3                Tomatoes                Fresno   \n4                Tomatoes                  Yolo   \n5                Tomatoes           San Joaquin   \n6                 Oranges                Tulare   \n7                 Oranges                  Kern   \n8                 Oranges                Fresno   \n9                 Lettuce              Imperial   \n10                Lettuce                Fresno   \n11                Lettuce              Monterey   \n12           Strawberries         Santa Barbara   \n13           Strawberries              Monterey   \n14           Strawberries       San Luis Obispo   \n15             Pistachios                  Kern   \n16             Pistachios                Fresno   \n17             Pistachios                Tulare   \n18                Walnuts           San Joaquin   \n19                Walnuts                 Butte   \n20                Walnuts                Tulare   \n21                Almonds                Fresno   \n22                Almonds                  Kern   \n23                Almonds            Stanislaus   \n24                 Grapes                Fresno   \n25                 Grapes                Madera   \n26                 Grapes           San Joaquin   \n27  Other Hay/Non Alfalfa              Imperial   \n28  Other Hay/Non Alfalfa                 Modoc   \n29  Other Hay/Non Alfalfa            Sacramento   \n\n   Ranked_Counties_10yr_precip_minmax_inclusive  \\\n0                                    Sacramento   \n1                                          Yuba   \n2                                           Nye   \n3                                        Fresno   \n4                                        Madera   \n5                                    Stanislaus   \n6                                      Imperial   \n7                                          Inyo   \n8                                          Yuma   \n9                                     Churchill   \n10                                         Inyo   \n11                                     Pershing   \n12                                     Pershing   \n13                                         Yuma   \n14                                    Churchill   \n15                                     Imperial   \n16                                         Inyo   \n17                                         Yuma   \n18                                       Tehama   \n19                                          Nye   \n20                                   Sacramento   \n21                                         Yuma   \n22                                     Imperial   \n23                                       Mohave   \n24                                     Imperial   \n25                                         Yuma   \n26                                         Inyo   \n27                                    Churchill   \n28                                     Pershing   \n29                                       Washoe   \n\n   Ranked_Counties_30yr_precip_minmax_inclusive  \\\n0                                    Sacramento   \n1                                     Calaveras   \n2                                        Solano   \n3                                     Riverside   \n4                                         Kings   \n5                                San Bernardino   \n6                                        Mohave   \n7                                         Clark   \n8                                          Yuma   \n9                                       Mineral   \n10                                        Clark   \n11                                    Churchill   \n12                                         Inyo   \n13                                     Imperial   \n14                                         Yuba   \n15                                       Mohave   \n16                                         Yuma   \n17                                     Imperial   \n18                                  San Joaquin   \n19                                    Calaveras   \n20                                       Solano   \n21                                     Imperial   \n22                                         Inyo   \n23                                         Yuma   \n24                                         Yuma   \n25                                     Imperial   \n26                                       Mohave   \n27                                    Churchill   \n28                                      Mineral   \n29                                         Kern   \n\n   Ranked_Counties_10yr_precip_minmax_exclusive  \\\n0                                    Sacramento   \n1                                          Yuba   \n2                                           Nye   \n3                                        Fresno   \n4                                        Madera   \n5                                    Stanislaus   \n6                                      Imperial   \n7                                          Inyo   \n8                                          Yuma   \n9                                     Churchill   \n10                                         Inyo   \n11                                     Pershing   \n12                                     Pershing   \n13                                         Yuma   \n14                                    Churchill   \n15                                     Imperial   \n16                                         Inyo   \n17                                       Fresno   \n18                                       Tehama   \n19                                          Nye   \n20                                   Sacramento   \n21                                         Yuma   \n22                                     Imperial   \n23                                    Churchill   \n24                                     Imperial   \n25                                         Inyo   \n26                                    Churchill   \n27                                    Churchill   \n28                                     Pershing   \n29                                       Washoe   \n\n   Ranked_Counties_30yr_precip_minmax_exclusive  \n0                                    Sacramento  \n1                                     Calaveras  \n2                                        Solano  \n3                                     Riverside  \n4                                         Kings  \n5                                San Bernardino  \n6                                        Mohave  \n7                                         Clark  \n8                                          Yuma  \n9                                       Mineral  \n10                                        Clark  \n11                                    Churchill  \n12                                         Inyo  \n13                                     Imperial  \n14                                         Yuma  \n15                                       Mohave  \n16                                         Yuma  \n17                                        Clark  \n18                                  San Joaquin  \n19                                    Calaveras  \n20                                       Solano  \n21                                     Imperial  \n22                                         Inyo  \n23                                         Yuma  \n24                                         Yuma  \n25                                     Imperial  \n26                                       Mohave  \n27                                    Churchill  \n28                                      Mineral  \n29                                         Kern  ",
      "text/html": "<div>\n<style scoped>\n    .dataframe tbody tr th:only-of-type {\n        vertical-align: middle;\n    }\n\n    .dataframe tbody tr th {\n        vertical-align: top;\n    }\n\n    .dataframe thead th {\n        text-align: right;\n    }\n</style>\n<table border=\"1\" class=\"dataframe\">\n  <thead>\n    <tr style=\"text-align: right;\">\n      <th></th>\n      <th>Crop</th>\n      <th>Current_County_ranked</th>\n      <th>Ranked_Counties_10yr_precip_minmax_inclusive</th>\n      <th>Ranked_Counties_30yr_precip_minmax_inclusive</th>\n      <th>Ranked_Counties_10yr_precip_minmax_exclusive</th>\n      <th>Ranked_Counties_30yr_precip_minmax_exclusive</th>\n    </tr>\n  </thead>\n  <tbody>\n    <tr>\n      <th>0</th>\n      <td>Rice</td>\n      <td>Colusa</td>\n      <td>Sacramento</td>\n      <td>Sacramento</td>\n      <td>Sacramento</td>\n      <td>Sacramento</td>\n    </tr>\n    <tr>\n      <th>1</th>\n      <td>Rice</td>\n      <td>Sutter</td>\n      <td>Yuba</td>\n      <td>Calaveras</td>\n      <td>Yuba</td>\n      <td>Calaveras</td>\n    </tr>\n    <tr>\n      <th>2</th>\n      <td>Rice</td>\n      <td>Butte</td>\n      <td>Nye</td>\n      <td>Solano</td>\n      <td>Nye</td>\n      <td>Solano</td>\n    </tr>\n    <tr>\n      <th>3</th>\n      <td>Tomatoes</td>\n      <td>Fresno</td>\n      <td>Fresno</td>\n      <td>Riverside</td>\n      <td>Fresno</td>\n      <td>Riverside</td>\n    </tr>\n    <tr>\n      <th>4</th>\n      <td>Tomatoes</td>\n      <td>Yolo</td>\n      <td>Madera</td>\n      <td>Kings</td>\n      <td>Madera</td>\n      <td>Kings</td>\n    </tr>\n    <tr>\n      <th>5</th>\n      <td>Tomatoes</td>\n      <td>San Joaquin</td>\n      <td>Stanislaus</td>\n      <td>San Bernardino</td>\n      <td>Stanislaus</td>\n      <td>San Bernardino</td>\n    </tr>\n    <tr>\n      <th>6</th>\n      <td>Oranges</td>\n      <td>Tulare</td>\n      <td>Imperial</td>\n      <td>Mohave</td>\n      <td>Imperial</td>\n      <td>Mohave</td>\n    </tr>\n    <tr>\n      <th>7</th>\n      <td>Oranges</td>\n      <td>Kern</td>\n      <td>Inyo</td>\n      <td>Clark</td>\n      <td>Inyo</td>\n      <td>Clark</td>\n    </tr>\n    <tr>\n      <th>8</th>\n      <td>Oranges</td>\n      <td>Fresno</td>\n      <td>Yuma</td>\n      <td>Yuma</td>\n      <td>Yuma</td>\n      <td>Yuma</td>\n    </tr>\n    <tr>\n      <th>9</th>\n      <td>Lettuce</td>\n      <td>Imperial</td>\n      <td>Churchill</td>\n      <td>Mineral</td>\n      <td>Churchill</td>\n      <td>Mineral</td>\n    </tr>\n    <tr>\n      <th>10</th>\n      <td>Lettuce</td>\n      <td>Fresno</td>\n      <td>Inyo</td>\n      <td>Clark</td>\n      <td>Inyo</td>\n      <td>Clark</td>\n    </tr>\n    <tr>\n      <th>11</th>\n      <td>Lettuce</td>\n      <td>Monterey</td>\n      <td>Pershing</td>\n      <td>Churchill</td>\n      <td>Pershing</td>\n      <td>Churchill</td>\n    </tr>\n    <tr>\n      <th>12</th>\n      <td>Strawberries</td>\n      <td>Santa Barbara</td>\n      <td>Pershing</td>\n      <td>Inyo</td>\n      <td>Pershing</td>\n      <td>Inyo</td>\n    </tr>\n    <tr>\n      <th>13</th>\n      <td>Strawberries</td>\n      <td>Monterey</td>\n      <td>Yuma</td>\n      <td>Imperial</td>\n      <td>Yuma</td>\n      <td>Imperial</td>\n    </tr>\n    <tr>\n      <th>14</th>\n      <td>Strawberries</td>\n      <td>San Luis Obispo</td>\n      <td>Churchill</td>\n      <td>Yuba</td>\n      <td>Churchill</td>\n      <td>Yuma</td>\n    </tr>\n    <tr>\n      <th>15</th>\n      <td>Pistachios</td>\n      <td>Kern</td>\n      <td>Imperial</td>\n      <td>Mohave</td>\n      <td>Imperial</td>\n      <td>Mohave</td>\n    </tr>\n    <tr>\n      <th>16</th>\n      <td>Pistachios</td>\n      <td>Fresno</td>\n      <td>Inyo</td>\n      <td>Yuma</td>\n      <td>Inyo</td>\n      <td>Yuma</td>\n    </tr>\n    <tr>\n      <th>17</th>\n      <td>Pistachios</td>\n      <td>Tulare</td>\n      <td>Yuma</td>\n      <td>Imperial</td>\n      <td>Fresno</td>\n      <td>Clark</td>\n    </tr>\n    <tr>\n      <th>18</th>\n      <td>Walnuts</td>\n      <td>San Joaquin</td>\n      <td>Tehama</td>\n      <td>San Joaquin</td>\n      <td>Tehama</td>\n      <td>San Joaquin</td>\n    </tr>\n    <tr>\n      <th>19</th>\n      <td>Walnuts</td>\n      <td>Butte</td>\n      <td>Nye</td>\n      <td>Calaveras</td>\n      <td>Nye</td>\n      <td>Calaveras</td>\n    </tr>\n    <tr>\n      <th>20</th>\n      <td>Walnuts</td>\n      <td>Tulare</td>\n      <td>Sacramento</td>\n      <td>Solano</td>\n      <td>Sacramento</td>\n      <td>Solano</td>\n    </tr>\n    <tr>\n      <th>21</th>\n      <td>Almonds</td>\n      <td>Fresno</td>\n      <td>Yuma</td>\n      <td>Imperial</td>\n      <td>Yuma</td>\n      <td>Imperial</td>\n    </tr>\n    <tr>\n      <th>22</th>\n      <td>Almonds</td>\n      <td>Kern</td>\n      <td>Imperial</td>\n      <td>Inyo</td>\n      <td>Imperial</td>\n      <td>Inyo</td>\n    </tr>\n    <tr>\n      <th>23</th>\n      <td>Almonds</td>\n      <td>Stanislaus</td>\n      <td>Mohave</td>\n      <td>Yuma</td>\n      <td>Churchill</td>\n      <td>Yuma</td>\n    </tr>\n    <tr>\n      <th>24</th>\n      <td>Grapes</td>\n      <td>Fresno</td>\n      <td>Imperial</td>\n      <td>Yuma</td>\n      <td>Imperial</td>\n      <td>Yuma</td>\n    </tr>\n    <tr>\n      <th>25</th>\n      <td>Grapes</td>\n      <td>Madera</td>\n      <td>Yuma</td>\n      <td>Imperial</td>\n      <td>Inyo</td>\n      <td>Imperial</td>\n    </tr>\n    <tr>\n      <th>26</th>\n      <td>Grapes</td>\n      <td>San Joaquin</td>\n      <td>Inyo</td>\n      <td>Mohave</td>\n      <td>Churchill</td>\n      <td>Mohave</td>\n    </tr>\n    <tr>\n      <th>27</th>\n      <td>Other Hay/Non Alfalfa</td>\n      <td>Imperial</td>\n      <td>Churchill</td>\n      <td>Churchill</td>\n      <td>Churchill</td>\n      <td>Churchill</td>\n    </tr>\n    <tr>\n      <th>28</th>\n      <td>Other Hay/Non Alfalfa</td>\n      <td>Modoc</td>\n      <td>Pershing</td>\n      <td>Mineral</td>\n      <td>Pershing</td>\n      <td>Mineral</td>\n    </tr>\n    <tr>\n      <th>29</th>\n      <td>Other Hay/Non Alfalfa</td>\n      <td>Sacramento</td>\n      <td>Washoe</td>\n      <td>Kern</td>\n      <td>Washoe</td>\n      <td>Kern</td>\n    </tr>\n  </tbody>\n</table>\n</div>"
     },
     "execution_count": 473,
     "metadata": {},
     "output_type": "execute_result"
    }
   ],
   "source": [
    "# Perform spatial analysis\n",
    "## The 'CA_Counties_Weather' dataset is reduced into two matrices: One with 10-yr. precipitation normals and the other with 30-yr. precipitation normals\n",
    "## The 'CA_Crops_ct' dataset is parsed then reduced to columns needed for analysis\n",
    "\n",
    "# `k_factor` - Determines the top 'k' number of results to return\n",
    "k_factor = 3\n",
    "output = pd.DataFrame()\n",
    "\n",
    "for index, row in CA_Crops_ct.iterrows():\n",
    "    ## Object instantiation for each loop\n",
    "    # LIST () : All the months of the year\n",
    "    growing_months = list(range(1, 13))\n",
    "    # Name of the crop\n",
    "    crop = row['Crop']; crop_max_rain = row['AbsMaxRainfall_in']; crop_min_rain = row['AbsMinRainfall_in']\n",
    "    crop_stats = row[['AbsMinTemp_F', 'AvgTemp_F', 'AbsMaxTemp_F', 'AvgRainfall_in']].copy()\n",
    "    # Copy of the weather data\n",
    "    County_Weather_crop = CA_Counties_Weather.copy()\n",
    "    \n",
    "    # When there are no specific growing months...\n",
    "    if (pd.isna(row['GrowingMonth_Start_no'])):\n",
    "        pass\n",
    "    \n",
    "    # When there ARE specific growing months...\n",
    "    else:\n",
    "        # Determine the growing months\n",
    "        start = growing_months.index(int(row['GrowingMonth_Start_no']))\n",
    "        months_reordered = growing_months[start:] + growing_months[:start]\n",
    "        end = months_reordered.index(int(row['GrowingMonth_End_no']))\n",
    "        growing_months = months_reordered[:end+1]\n",
    "        # Take only observations that are in the growing months\n",
    "        County_Weather_crop = County_Weather_crop[County_Weather_crop['Month'].isin(growing_months)].drop(columns = ['Month'], axis = 1, inplace = False)\n",
    "    \n",
    "    ## Curate the aggregate statistics to compare to the crop\n",
    "    # Determine the average observed temperatures for the growing months of the crop\n",
    "    County_Weather_crop_temp = County_Weather_crop[['County', 'MinTemp', 'AvgTemp', 'MaxTemp']].copy()\n",
    "    County_Weather_crop_temp = County_Weather_crop_temp.set_index('County')\n",
    "    County_Weather_crop_temp = County_Weather_crop_temp.groupby('County').apply(np.mean, axis = 0)\n",
    "    County_Weather_crop_temp.reset_index(inplace = True)\n",
    "    # Determine the total observed rainfall for the growing months of the crop \n",
    "    County_Weather_crop_rain = County_Weather_crop[['County', 'Avg_Precipitation_2010_to_2020', 'Avg_Precipitation_1991_to_2020']].copy()\n",
    "    County_Weather_crop_rain = County_Weather_crop_rain.set_index('County')\n",
    "    County_Weather_crop_rain = County_Weather_crop_rain.groupby('County').apply(np.sum, axis = 0)\n",
    "    County_Weather_crop_rain.reset_index(inplace = True)\n",
    "    # Put it together into two matrices: One looking at more recent rainfall patterns, and the other at longer patterns\n",
    "    County_Weather_10yr = County_Weather_crop_temp.merge(County_Weather_crop_rain[['County', 'Avg_Precipitation_2010_to_2020']].copy(), how = 'left', on = 'County')\n",
    "    County_Weather_30yr = County_Weather_crop_temp.merge(County_Weather_crop_rain[['County', 'Avg_Precipitation_1991_to_2020']].copy(), how = 'left', on = 'County')\n",
    "    # Create datasets that exclude counties where the observed rainfall is outside [min, max]\n",
    "    County_Weather_10yr_s = County_Weather_10yr[(County_Weather_10yr['Avg_Precipitation_2010_to_2020'] < crop_max_rain) & \\\n",
    "                                                (County_Weather_10yr['Avg_Precipitation_2010_to_2020'] > crop_min_rain)]\n",
    "    County_Weather_30yr_s = County_Weather_30yr[(County_Weather_30yr['Avg_Precipitation_1991_to_2020'] < crop_max_rain) & \\\n",
    "                                                (County_Weather_30yr['Avg_Precipitation_1991_to_2020'] > crop_min_rain)]\n",
    "    # Create trees for each dataset...\n",
    "    tree_10yr_all = spatial.KDTree(County_Weather_10yr.to_numpy()[:,1:])\n",
    "    tree_30yr_all = spatial.KDTree(County_Weather_30yr.to_numpy()[:,1:])\n",
    "    tree_10yr_ranged = spatial.KDTree(County_Weather_10yr_s.to_numpy()[:,1:])\n",
    "    tree_30yr_ranged = spatial.KDTree(County_Weather_30yr_s.to_numpy()[:,1:])\n",
    "    # Query spatial analysis results from each tree\n",
    "    tree_10yr_all_top_3_search = tree_10yr_all.query(crop_stats, k = list(range(1,k_factor + 1)))\n",
    "    tree_10yr_all_top_3_results = [County_Weather_10yr.iloc[i,0] for i in tree_10yr_all_top_3_search[1].tolist()]\n",
    "    \n",
    "    tree_30yr_all_top_3_search = tree_30yr_all.query(crop_stats, k = list(range(1,k_factor + 1)))\n",
    "    tree_30yr_all_top_3_results = [County_Weather_30yr.iloc[i,0] for i in tree_30yr_all_top_3_search[1].tolist()]\n",
    "\n",
    "    tree_10yr_ranged_top_3_search = tree_10yr_ranged.query(crop_stats, k = list(range(1,k_factor + 1)))\n",
    "    tree_10yr_ranged_top_3_results = [County_Weather_10yr_s.iloc[i,0] for i in tree_10yr_ranged_top_3_search[1].tolist()]\n",
    "    \n",
    "    tree_30yr_ranged_top_3_search = tree_30yr_ranged.query(crop_stats, k = list(range(1,k_factor + 1)))\n",
    "    tree_30yr_ranged_top_3_results = [County_Weather_30yr_s.iloc[i,0] for i in tree_30yr_ranged_top_3_search[1].tolist()]\n",
    "    # Put results of analysis into DataFrame\n",
    "    results = pd.DataFrame({'Ranked_Counties_10yr_precip_minmax_inclusive' : tree_10yr_all_top_3_results,\n",
    "                            'Ranked_Counties_30yr_precip_minmax_inclusive' : tree_30yr_all_top_3_results,\n",
    "                            'Ranked_Counties_10yr_precip_minmax_exclusive' : tree_10yr_ranged_top_3_results,\n",
    "                            'Ranked_Counties_30yr_precip_minmax_exclusive' : tree_30yr_ranged_top_3_results})\n",
    "    results['Crop'] = crop\n",
    "    # Get the rankings of current production\n",
    "    CACountyRankings_percrop = CACrops_Descr_tr_agg[['County', 'Crop', 'Total_Crop_Area_sq_mi']].copy()\n",
    "    CACountyRankings_percrop['Rank'] = (CACountyRankings_percrop.groupby('Crop')['Total_Crop_Area_sq_mi'].rank(method = \"dense\", ascending = False)).astype(int)\n",
    "    CACountyRankings_percrop = CACountyRankings_percrop[(CACountyRankings_percrop['Rank'] <= k_factor) & (CACountyRankings_percrop['Crop'] == crop)].sort_values(by = ['Rank'], inplace = False)\n",
    "    CACountyRankings_percrop.index = CACountyRankings_percrop['Rank']-1\n",
    "    # Append current production rankings to spatial analysis results\n",
    "    results = results.join(CACountyRankings_percrop[['County']], how = 'left').rename(columns = {'County' : 'Current_County_ranked'})\n",
    "    results = results.loc[:, ['Crop', 'Current_County_ranked', 'Ranked_Counties_10yr_precip_minmax_inclusive', 'Ranked_Counties_30yr_precip_minmax_inclusive',\n",
    "                              'Ranked_Counties_10yr_precip_minmax_exclusive', 'Ranked_Counties_30yr_precip_minmax_exclusive']]\n",
    "    # Append to output dataframe\n",
    "    output = pd.concat([output, results], ignore_index = True)\n",
    "# Display output data frame\n",
    "output"
   ],
   "metadata": {
    "collapsed": false,
    "ExecuteTime": {
     "end_time": "2024-04-22T00:46:43.363319Z",
     "start_time": "2024-04-22T00:46:43.191479Z"
    }
   },
   "id": "fc96d81af1dd173e"
  },
  {
   "cell_type": "markdown",
   "source": [
    "### Conclusion & Next Steps\n",
    "\n",
    "As evident in the dataset, few if any of the recommended counties are actually the producers of the top-valued crops in CA. An emergent pattern of more matches could possibly be seen if the `k_factor` was to be increased, but it is most likely due to data not in scope for this project. Next steps could seek to increase the fidelity of current data or identify new data that could describe the difference. \n",
    "\n",
    "Further, later work in this area could analyze soil composition and insect invasion patterns to further inform the given recommendations. Codifying the cyclical nature of annual pest invasion cycles could prove valuable to farmers to protect harvests through preventative measures. And the inclusion of soil composition data could lead to more bountiful harvests, more sustained success, and greater individual outcomes for farmers. \n"
   ],
   "metadata": {
    "collapsed": false
   },
   "id": "1d6a56de2ac22cb"
  },
  {
   "cell_type": "code",
   "execution_count": 475,
   "outputs": [],
   "source": [
    "output.to_csv(f\"CA_Crops_Spatial_Analysis_Top_{k_factor}.csv\")"
   ],
   "metadata": {
    "collapsed": false,
    "ExecuteTime": {
     "end_time": "2024-04-22T00:54:45.942982Z",
     "start_time": "2024-04-22T00:54:45.916239Z"
    }
   },
   "id": "bb80ee9de4366c6d"
  }
 ],
 "metadata": {
  "kernelspec": {
   "display_name": "Python 3",
   "language": "python",
   "name": "python3"
  },
  "language_info": {
   "codemirror_mode": {
    "name": "ipython",
    "version": 2
   },
   "file_extension": ".py",
   "mimetype": "text/x-python",
   "name": "python",
   "nbconvert_exporter": "python",
   "pygments_lexer": "ipython2",
   "version": "2.7.6"
  }
 },
 "nbformat": 4,
 "nbformat_minor": 5
}
